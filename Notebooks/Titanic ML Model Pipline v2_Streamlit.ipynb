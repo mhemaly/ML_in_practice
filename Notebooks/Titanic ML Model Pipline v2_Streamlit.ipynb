{
 "cells": [
  {
   "cell_type": "markdown",
   "metadata": {},
   "source": [
    "# Machine Learning Pipeline"
   ]
  },
  {
   "cell_type": "markdown",
   "metadata": {},
   "source": [
    "### <center> Predicting Survival on the Titanic Dataset </center>\n"
   ]
  },
  {
   "cell_type": "markdown",
   "metadata": {},
   "source": [
    "## Importing essential libraries"
   ]
  },
  {
   "cell_type": "code",
   "execution_count": 1,
   "metadata": {},
   "outputs": [],
   "source": [
    "import pandas as pd\n",
    "import numpy as np\n",
    "import seaborn as sns\n",
    "import matplotlib.pyplot as plt\n",
    "from sklearn.model_selection import train_test_split\n",
    "from sklearn.preprocessing import StandardScaler, LabelEncoder\n",
    "from sklearn.ensemble import RandomForestClassifier\n",
    "from sklearn.metrics import classification_report, confusion_matrix\n",
    "import joblib\n",
    "import streamlit as st"
   ]
  },
  {
   "cell_type": "markdown",
   "metadata": {},
   "source": [
    "### <center>Section 01 : Data Loading</center>\n",
    "#### In this section, we will load the necessary data for our analysis."
   ]
  },
  {
   "cell_type": "code",
   "execution_count": 2,
   "metadata": {},
   "outputs": [
    {
     "name": "stdout",
     "output_type": "stream",
     "text": [
      "\n",
      "Loading Titanic dataset...\n",
      "Data Loaded Successfully. Here's a preview:\n",
      "   survived  pclass     sex   age  sibsp  parch     fare embarked  class  \\\n",
      "0         0       3    male  22.0      1      0   7.2500        S  Third   \n",
      "1         1       1  female  38.0      1      0  71.2833        C  First   \n",
      "2         1       3  female  26.0      0      0   7.9250        S  Third   \n",
      "3         1       1  female  35.0      1      0  53.1000        S  First   \n",
      "4         0       3    male  35.0      0      0   8.0500        S  Third   \n",
      "\n",
      "     who  adult_male deck  embark_town alive  alone  \n",
      "0    man        True  NaN  Southampton    no  False  \n",
      "1  woman       False    C    Cherbourg   yes  False  \n",
      "2  woman       False  NaN  Southampton   yes   True  \n",
      "3  woman       False    C  Southampton   yes  False  \n",
      "4    man        True  NaN  Southampton    no   True  \n"
     ]
    }
   ],
   "source": [
    "# Set plot style for better visuals\n",
    "sns.set(style=\"whitegrid\")\n",
    "\n",
    "\n",
    "# Section 1: Data Loading\n",
    "# Load the Titanic dataset from seaborn\n",
    "print(\"\\nLoading Titanic dataset...\")\n",
    "data = sns.load_dataset('titanic')\n",
    "print(\"Data Loaded Successfully. Here's a preview:\")\n",
    "print(data.head())"
   ]
  },
  {
   "cell_type": "markdown",
   "metadata": {},
   "source": [
    "### <center>Section 02: Data Preprocessing</center>"
   ]
  },
  {
   "cell_type": "markdown",
   "metadata": {},
   "source": [
    "#### Step 1: Check Null Values"
   ]
  },
  {
   "cell_type": "code",
   "execution_count": 3,
   "metadata": {},
   "outputs": [
    {
     "data": {
      "text/plain": [
       "survived         0\n",
       "pclass           0\n",
       "sex              0\n",
       "age            177\n",
       "sibsp            0\n",
       "parch            0\n",
       "fare             0\n",
       "embarked         2\n",
       "class            0\n",
       "who              0\n",
       "adult_male       0\n",
       "deck           688\n",
       "embark_town      2\n",
       "alive            0\n",
       "alone            0\n",
       "dtype: int64"
      ]
     },
     "execution_count": 3,
     "metadata": {},
     "output_type": "execute_result"
    }
   ],
   "source": [
    "data.isnull().sum()"
   ]
  },
  {
   "cell_type": "code",
   "execution_count": 4,
   "metadata": {},
   "outputs": [],
   "source": [
    "#Checiking Missing Values Percentage\n",
    "percent_missing = data.isnull().sum() * 100 / len(data)\n",
    "missing_value_df = pd.DataFrame({'column_name': data.columns,\n",
    "                                 'percent_missing': percent_missing})"
   ]
  },
  {
   "cell_type": "code",
   "execution_count": 5,
   "metadata": {},
   "outputs": [
    {
     "data": {
      "text/html": [
       "<div>\n",
       "<style scoped>\n",
       "    .dataframe tbody tr th:only-of-type {\n",
       "        vertical-align: middle;\n",
       "    }\n",
       "\n",
       "    .dataframe tbody tr th {\n",
       "        vertical-align: top;\n",
       "    }\n",
       "\n",
       "    .dataframe thead th {\n",
       "        text-align: right;\n",
       "    }\n",
       "</style>\n",
       "<table border=\"1\" class=\"dataframe\">\n",
       "  <thead>\n",
       "    <tr style=\"text-align: right;\">\n",
       "      <th></th>\n",
       "      <th>column_name</th>\n",
       "      <th>percent_missing</th>\n",
       "    </tr>\n",
       "  </thead>\n",
       "  <tbody>\n",
       "    <tr>\n",
       "      <th>deck</th>\n",
       "      <td>deck</td>\n",
       "      <td>77.216611</td>\n",
       "    </tr>\n",
       "    <tr>\n",
       "      <th>age</th>\n",
       "      <td>age</td>\n",
       "      <td>19.865320</td>\n",
       "    </tr>\n",
       "    <tr>\n",
       "      <th>embarked</th>\n",
       "      <td>embarked</td>\n",
       "      <td>0.224467</td>\n",
       "    </tr>\n",
       "    <tr>\n",
       "      <th>embark_town</th>\n",
       "      <td>embark_town</td>\n",
       "      <td>0.224467</td>\n",
       "    </tr>\n",
       "    <tr>\n",
       "      <th>survived</th>\n",
       "      <td>survived</td>\n",
       "      <td>0.000000</td>\n",
       "    </tr>\n",
       "    <tr>\n",
       "      <th>pclass</th>\n",
       "      <td>pclass</td>\n",
       "      <td>0.000000</td>\n",
       "    </tr>\n",
       "    <tr>\n",
       "      <th>sex</th>\n",
       "      <td>sex</td>\n",
       "      <td>0.000000</td>\n",
       "    </tr>\n",
       "    <tr>\n",
       "      <th>sibsp</th>\n",
       "      <td>sibsp</td>\n",
       "      <td>0.000000</td>\n",
       "    </tr>\n",
       "    <tr>\n",
       "      <th>parch</th>\n",
       "      <td>parch</td>\n",
       "      <td>0.000000</td>\n",
       "    </tr>\n",
       "    <tr>\n",
       "      <th>fare</th>\n",
       "      <td>fare</td>\n",
       "      <td>0.000000</td>\n",
       "    </tr>\n",
       "    <tr>\n",
       "      <th>class</th>\n",
       "      <td>class</td>\n",
       "      <td>0.000000</td>\n",
       "    </tr>\n",
       "    <tr>\n",
       "      <th>who</th>\n",
       "      <td>who</td>\n",
       "      <td>0.000000</td>\n",
       "    </tr>\n",
       "    <tr>\n",
       "      <th>adult_male</th>\n",
       "      <td>adult_male</td>\n",
       "      <td>0.000000</td>\n",
       "    </tr>\n",
       "    <tr>\n",
       "      <th>alive</th>\n",
       "      <td>alive</td>\n",
       "      <td>0.000000</td>\n",
       "    </tr>\n",
       "    <tr>\n",
       "      <th>alone</th>\n",
       "      <td>alone</td>\n",
       "      <td>0.000000</td>\n",
       "    </tr>\n",
       "  </tbody>\n",
       "</table>\n",
       "</div>"
      ],
      "text/plain": [
       "             column_name  percent_missing\n",
       "deck                deck        77.216611\n",
       "age                  age        19.865320\n",
       "embarked        embarked         0.224467\n",
       "embark_town  embark_town         0.224467\n",
       "survived        survived         0.000000\n",
       "pclass            pclass         0.000000\n",
       "sex                  sex         0.000000\n",
       "sibsp              sibsp         0.000000\n",
       "parch              parch         0.000000\n",
       "fare                fare         0.000000\n",
       "class              class         0.000000\n",
       "who                  who         0.000000\n",
       "adult_male    adult_male         0.000000\n",
       "alive              alive         0.000000\n",
       "alone              alone         0.000000"
      ]
     },
     "execution_count": 5,
     "metadata": {},
     "output_type": "execute_result"
    }
   ],
   "source": [
    "#Sorting Missing values Percentages\n",
    "missing_value_df.sort_values('percent_missing',ascending=False, inplace=True)\n",
    "missing_value_df"
   ]
  },
  {
   "cell_type": "markdown",
   "metadata": {},
   "source": [
    "#### Step 2: Droping Null Values"
   ]
  },
  {
   "cell_type": "markdown",
   "metadata": {},
   "source": [
    "##### - Drop columns with too many missing values or irrelevant for prediction\n",
    "##### - Fill missing values\n",
    "##### - Drop rows where 'embarked' or 'age' is still missing (if any)\n",
    "##### - Drop unneccessary Cloumns"
   ]
  },
  {
   "cell_type": "code",
   "execution_count": 6,
   "metadata": {},
   "outputs": [
    {
     "name": "stdout",
     "output_type": "stream",
     "text": [
      "\n",
      "Preprocessing data...\n"
     ]
    }
   ],
   "source": [
    "print(\"\\nPreprocessing data...\")\n",
    "# Drop columns with too many missing values or irrelevant for prediction\n",
    "data.drop(['deck', 'embark_town', 'alive'], axis=1, inplace=True)"
   ]
  },
  {
   "cell_type": "code",
   "execution_count": 7,
   "metadata": {},
   "outputs": [],
   "source": [
    "# Fill missing values\n",
    "data['age'].fillna(data['age'].median(), inplace=True)\n",
    "data['embarked'].fillna(data['embarked'].mode()[0], inplace=True)"
   ]
  },
  {
   "cell_type": "code",
   "execution_count": 8,
   "metadata": {},
   "outputs": [],
   "source": [
    "# Drop rows where 'embarked' or 'age' is still missing (if any)\n",
    "data.dropna(subset=['embarked', 'age'], inplace=True)"
   ]
  },
  {
   "cell_type": "code",
   "execution_count": 9,
   "metadata": {},
   "outputs": [],
   "source": [
    "# Drop columns unlikely to help with prediction\n",
    "data.drop(['who', 'adult_male', 'embarked', 'class'], axis=1, inplace=True)"
   ]
  },
  {
   "cell_type": "markdown",
   "metadata": {},
   "source": [
    "#### Step 3: Encoding Categorical Variables"
   ]
  },
  {
   "cell_type": "code",
   "execution_count": 10,
   "metadata": {},
   "outputs": [],
   "source": [
    "# Encode categorical variables\n",
    "label_encoders = {}\n",
    "#for column in ['sex', 'embarked', 'class', 'who', 'adult_male', 'alone']:\n",
    "for column in ['sex',  'alone']:\n",
    "    \n",
    "    le = LabelEncoder()\n",
    "    data[column] = le.fit_transform(data[column])\n",
    "    label_encoders[column] = le"
   ]
  },
  {
   "cell_type": "markdown",
   "metadata": {},
   "source": [
    "### <center>Section 03: Exploratory Data Analysis (EDA)</center>"
   ]
  },
  {
   "cell_type": "markdown",
   "metadata": {},
   "source": [
    "##### - Plotting Survival Count\n",
    "##### - Plotting Age Distribution\n",
    "##### - Plotting Feature Correlation"
   ]
  },
  {
   "cell_type": "code",
   "execution_count": 11,
   "metadata": {},
   "outputs": [
    {
     "name": "stdout",
     "output_type": "stream",
     "text": [
      "\n",
      "Performing Exploratory Data Analysis...\n"
     ]
    }
   ],
   "source": [
    "print(\"\\nPerforming Exploratory Data Analysis...\")"
   ]
  },
  {
   "cell_type": "code",
   "execution_count": 12,
   "metadata": {},
   "outputs": [
    {
     "data": {
      "image/png": "[encoded data removed]",
      "text/plain": [
       "<Figure size 800x500 with 1 Axes>"
      ]
     },
     "metadata": {},
     "output_type": "display_data"
    }
   ],
   "source": [
    "plt.figure(figsize=(8, 5))\n",
    "sns.countplot(x='survived', data=data)\n",
    "plt.title('Survival Count')\n",
    "plt.show()"
   ]
  },
  {
   "cell_type": "code",
   "execution_count": 13,
   "metadata": {},
   "outputs": [
    {
     "data": {
      "image/png": "[encoded data removed]",
      "text/plain": [
       "<Figure size 800x500 with 1 Axes>"
      ]
     },
     "metadata": {},
     "output_type": "display_data"
    }
   ],
   "source": [
    "plt.figure(figsize=(8, 5))\n",
    "sns.histplot(data['age'], bins=30, kde=True)\n",
    "plt.title('Age Distribution')\n",
    "plt.show()"
   ]
  },
  {
   "cell_type": "code",
   "execution_count": 14,
   "metadata": {},
   "outputs": [
    {
     "data": {
      "image/png": "[encoded data removed]",
      "text/plain": [
       "<Figure size 1000x600 with 2 Axes>"
      ]
     },
     "metadata": {},
     "output_type": "display_data"
    }
   ],
   "source": [
    "plt.figure(figsize=(10, 6))\n",
    "sns.heatmap(data.corr(), annot=True, cmap='coolwarm')\n",
    "plt.title('Feature Correlation')\n",
    "plt.show()"
   ]
  },
  {
   "cell_type": "markdown",
   "metadata": {},
   "source": [
    "### <center>Section 04: Model Building</center>"
   ]
  },
  {
   "cell_type": "markdown",
   "metadata": {},
   "source": [
    "##### - Splittin Data into train / test Splits\n",
    "##### - Feature Scaling\n",
    "##### - Train Classifier"
   ]
  },
  {
   "cell_type": "code",
   "execution_count": 15,
   "metadata": {},
   "outputs": [
    {
     "name": "stdout",
     "output_type": "stream",
     "text": [
      "\n",
      "Building machine learning model...\n"
     ]
    }
   ],
   "source": [
    "print(\"\\nBuilding machine learning model...\")\n",
    "# Define features and target variable\n",
    "X = data.drop('survived', axis=1)\n",
    "y = data['survived']\n",
    "# Split data\n",
    "X_train, X_test, y_train, y_test = train_test_split(X, y, test_size=0.2, random_state=42)"
   ]
  },
  {
   "cell_type": "code",
   "execution_count": 16,
   "metadata": {},
   "outputs": [],
   "source": [
    "# Feature Scaling\n",
    "scaler = StandardScaler()\n",
    "X_train_scaled = scaler.fit_transform(X_train)\n",
    "X_test_scaled = scaler.transform(X_test)"
   ]
  },
  {
   "cell_type": "code",
   "execution_count": 17,
   "metadata": {},
   "outputs": [
    {
     "name": "stdout",
     "output_type": "stream",
     "text": [
      "\n",
      " training Machine learning model Started...\n",
      "\n",
      " training Machine learning model Ended...\n"
     ]
    }
   ],
   "source": [
    "# Train Random Forest Classifier\n",
    "model = RandomForestClassifier(n_estimators=100, random_state=42)\n",
    "print(\"\\n training Machine learning model Started...\")\n",
    "model.fit(X_train_scaled, y_train)\n",
    "print(\"\\n training Machine learning model Ended...\")"
   ]
  },
  {
   "cell_type": "markdown",
   "metadata": {},
   "source": [
    "### <center>Section 05: Model Evaluation</center>"
   ]
  },
  {
   "cell_type": "code",
   "execution_count": 18,
   "metadata": {},
   "outputs": [
    {
     "name": "stdout",
     "output_type": "stream",
     "text": [
      "\n",
      "Evaluating model performance...\n",
      "\n",
      "Classification Report:\n",
      "              precision    recall  f1-score   support\n",
      "\n",
      "           0       0.82      0.85      0.84       105\n",
      "           1       0.77      0.74      0.76        74\n",
      "\n",
      "    accuracy                           0.80       179\n",
      "   macro avg       0.80      0.80      0.80       179\n",
      "weighted avg       0.80      0.80      0.80       179\n",
      "\n",
      "\n",
      "Confusion Matrix:\n",
      "[[89 16]\n",
      " [19 55]]\n"
     ]
    }
   ],
   "source": [
    "print(\"\\nEvaluating model performance...\")\n",
    "y_pred = model.predict(X_test_scaled)\n",
    "print(\"\\nClassification Report:\")\n",
    "print(classification_report(y_test, y_pred))\n",
    "print(\"\\nConfusion Matrix:\")\n",
    "print(confusion_matrix(y_test, y_pred))"
   ]
  },
  {
   "cell_type": "markdown",
   "metadata": {},
   "source": [
    "### <center>Section 06: Model Deployment</center>"
   ]
  },
  {
   "cell_type": "markdown",
   "metadata": {},
   "source": [
    "##### - Saving Model Weights as pickle\n",
    "##### - Saving Featuer Scaling Instance as pickle\n",
    "##### - Building a Prediction Function for new inputs\n",
    "##### - Predicting new inputs ..."
   ]
  },
  {
   "cell_type": "code",
   "execution_count": 19,
   "metadata": {},
   "outputs": [
    {
     "name": "stdout",
     "output_type": "stream",
     "text": [
      "\n",
      "Saving model and scaler for deployment...\n",
      "Model and scaler saved successfully!\n"
     ]
    }
   ],
   "source": [
    "print(\"\\nSaving model and scaler for deployment...\")\n",
    "# Save model and scaler using joblib\n",
    "joblib.dump(scaler, '../model/scaler.pkl')\n",
    "joblib.dump(model, '../model/titanic_model.pkl')\n",
    "print(\"Model and scaler saved successfully!\")"
   ]
  },
  {
   "cell_type": "code",
   "execution_count": 20,
   "metadata": {},
   "outputs": [],
   "source": [
    "# Function to predict survival based on new input data\n",
    "def predict_survival(input_data):\n",
    "    input_df = pd.DataFrame([input_data])\n",
    "    input_df_scaled = scaler.transform(input_df)\n",
    "    prediction = model.predict(input_df_scaled)\n",
    "    return 'Survived' if prediction[0] == 1 else 'Did Not Survive'"
   ]
  },
  {
   "cell_type": "code",
   "execution_count": 21,
   "metadata": {},
   "outputs": [
    {
     "name": "stdout",
     "output_type": "stream",
     "text": [
      "\n",
      "Example Prediction: Did Not Survive\n"
     ]
    }
   ],
   "source": [
    "# Example prediction\n",
    "sample_input = X_test.iloc[0].to_dict()\n",
    "print(\"\\nExample Prediction:\", predict_survival(sample_input))\n"
   ]
  },
  {
   "cell_type": "code",
   "execution_count": 22,
   "metadata": {},
   "outputs": [
    {
     "data": {
      "text/plain": [
       "{'pclass': 3.0,\n",
       " 'sex': 1.0,\n",
       " 'age': 28.0,\n",
       " 'sibsp': 1.0,\n",
       " 'parch': 1.0,\n",
       " 'fare': 15.2458,\n",
       " 'alone': 0.0}"
      ]
     },
     "execution_count": 22,
     "metadata": {},
     "output_type": "execute_result"
    }
   ],
   "source": [
    "sample_input"
   ]
  },
  {
   "cell_type": "code",
   "execution_count": 23,
   "metadata": {},
   "outputs": [
    {
     "name": "stdout",
     "output_type": "stream",
     "text": [
      "\n",
      "Example Prediction: Did Not Survive\n"
     ]
    }
   ],
   "source": [
    "# Example prediction\n",
    "sample_input = X_test.iloc[0].to_dict()\n",
    "print(\"\\nExample Prediction:\", predict_survival(sample_input))"
   ]
  },
  {
   "cell_type": "code",
   "execution_count": 24,
   "metadata": {},
   "outputs": [],
   "source": [
    "# # Example prediction\n",
    "\n",
    "# # Function to take user inputs and return a dictionary\n",
    "# def get_user_input():\n",
    "#     print(\"\\nEnter passenger details:\")\n",
    "#     pclass = float(input(\"Passenger Class (1, 2, or 3): \"))\n",
    "#     while pclass not in [1.0, 2.0, 3.0]:\n",
    "#         print(\"Invalid input. Please enter 1, 2, or 3.\")\n",
    "#         pclass = float(input(\"Passenger Class (1, 2, or 3): \"))\n",
    "    \n",
    "#     sex = float(input(\"Sex (0 for female, 1 for male): \"))\n",
    "#     while sex not in [0.0, 1.0]:\n",
    "#         print(\"Invalid input. Please enter 0 for female or 1 for male.\")\n",
    "#         sex = float(input(\"Sex (0 for female, 1 for male): \"))\n",
    "    \n",
    "#     age = float(input(\"Age (0-100): \"))\n",
    "#     while age < 0 or age > 100:\n",
    "#         print(\"Invalid input. Please enter an age between 0 and 100.\")\n",
    "#         age = float(input(\"Age (0-100): \"))\n",
    "    \n",
    "#     sibsp = float(input(\"Number of Siblings/Spouses Aboard (0-8): \"))\n",
    "#     while sibsp < 0 or sibsp > 8:\n",
    "#         print(\"Invalid input. Please enter a number between 0 and 8.\")\n",
    "#         sibsp = float(input(\"Number of Siblings/Spouses Aboard (0-8): \"))\n",
    "    \n",
    "#     parch = float(input(\"Number of Parents/Children Aboard (0-6): \"))\n",
    "#     while parch < 0 or parch > 6:\n",
    "#         print(\"Invalid input. Please enter a number between 0 and 6.\")\n",
    "#         parch = float(input(\"Number of Parents/Children Aboard (0-6): \"))\n",
    "    \n",
    "#     fare = float(input(\"Fare (0-512): \"))\n",
    "#     while fare < 0 or fare > 512:\n",
    "#         print(\"Invalid input. Please enter a fare between 0 and 512.\")\n",
    "#         fare = float(input(\"Fare (0-512): \"))\n",
    "    \n",
    "#     alone = float(input(\"Alone (0 for No, 1 for Yes): \"))\n",
    "#     while alone not in [0.0, 1.0]:\n",
    "#         print(\"Invalid input. Please enter 0 for No or 1 for Yes.\")\n",
    "#         alone = float(input(\"Alone (0 for No, 1 for Yes): \"))\n",
    "    \n",
    "#     return {'pclass': pclass, 'sex': sex, 'age': age, 'sibsp': sibsp, 'parch': parch, 'fare': fare, 'alone': alone}\n"
   ]
  },
  {
   "cell_type": "code",
   "execution_count": null,
   "metadata": {},
   "outputs": [],
   "source": [
    "# user_data = get_user_input()\n",
    "# print(user_data)"
   ]
  },
  {
   "cell_type": "code",
   "execution_count": 29,
   "metadata": {},
   "outputs": [
    {
     "name": "stdout",
     "output_type": "stream",
     "text": [
      "\n",
      "Example Prediction: Survived\n"
     ]
    }
   ],
   "source": [
    "# # Example prediction\n",
    "# print(\"\\nExample Prediction:\", predict_survival(user_data))"
   ]
  },
  {
   "cell_type": "code",
   "execution_count": 24,
   "metadata": {},
   "outputs": [
    {
     "name": "stderr",
     "output_type": "stream",
     "text": [
      "2025-04-04 03:01:58.562 \n",
      "  \u001b[33m\u001b[1mWarning:\u001b[0m to view this Streamlit app on a browser, run it with the following\n",
      "  command:\n",
      "\n",
      "    streamlit run c:\\Users\\MHemaly\\.conda\\envs\\mlenv\\lib\\site-packages\\ipykernel_launcher.py [ARGUMENTS]\n"
     ]
    }
   ],
   "source": [
    "# Streamlit Deployment\n",
    "st.title(\"Titanic Survival Prediction App\")\n",
    "st.write(\"Enter passenger details to predict survival:\")\n",
    "\n",
    "pclass = st.selectbox(\"Passenger Class (1st, 2nd, 3rd):\", [1, 2, 3])\n",
    "sex = st.radio(\"Sex:\", [\"Male\", \"Female\"])\n",
    "age = st.slider(\"Age:\", 0, 100, 28)\n",
    "sibsp = st.slider(\"Number of Siblings/Spouses Aboard:\", 0, 8, 0)\n",
    "parch = st.slider(\"Number of Parents/Children Aboard:\", 0, 6, 0)\n",
    "fare = st.number_input(\"Fare Paid:\", 0.0, 512.0, 15.2458)\n",
    "alone = st.radio(\"Alone:\", [\"Yes\", \"No\"])\n",
    "\n",
    "sex = 1 if sex == \"Male\" else 0\n",
    "alone = 1 if alone == \"Yes\" else 0\n",
    "\n",
    "input_data = {'pclass': pclass, 'sex': sex, 'age': age, 'sibsp': sibsp, 'parch': parch, 'fare': fare, 'alone': alone}\n",
    "\n",
    "if st.button(\"Predict Survival\"):\n",
    "    model = joblib.load('titanic_model.pkl')\n",
    "    scaler = joblib.load('scaler.pkl')\n",
    "    input_df = pd.DataFrame([input_data])\n",
    "    input_df_scaled = scaler.transform(input_df)\n",
    "    prediction = model.predict(input_df_scaled)\n",
    "    result = 'Survived' if prediction[0] == 1 else 'Did Not Survive'\n",
    "    st.success(f\"Prediction: {result}\")"
   ]
  }
 ],
 "metadata": {
  "kernelspec": {
   "display_name": "Python 3",
   "language": "python",
   "name": "python3"
  },
  "language_info": {
   "codemirror_mode": {
    "name": "ipython",
    "version": 3
   },
   "file_extension": ".py",
   "mimetype": "text/x-python",
   "name": "python",
   "nbconvert_exporter": "python",
   "pygments_lexer": "ipython3",
   "version": "3.7.16"
  }
 },
 "nbformat": 4,
 "nbformat_minor": 2
}
